{
 "cells": [
  {
   "cell_type": "code",
   "execution_count": null,
   "id": "b38c3b80-eb9c-468c-a9d0-756b8b3e918f",
   "metadata": {},
   "outputs": [],
   "source": [
    "# Import the required libraries\n",
    "import hvplot.pandas\n",
    "import pandas as pd\n",
    "\n",
    "# Turn off warning messages\n",
    "import warnings\n",
    "warnings.filterwarnings(\"ignore\")"
   ]
  },
  {
   "cell_type": "code",
   "execution_count": null,
   "id": "38bb8fc9-835e-42ce-9e15-b44b10f66b17",
   "metadata": {},
   "outputs": [],
   "source": [
    "# Create a dictionary containing coordinates\n",
    "coordinates = {\n",
    "    \"latitude\": [-31.9523, -33.8688, -27.4705],\n",
    "    \"longitude\": [115.8613, 151.2093, 153.0260],\n",
    "    \"City\": [\"],\n",
    "    \"Population\": [2099530, 4637436, 2495825]\n",
    "}"
   ]
  },
  {
   "cell_type": "code",
   "execution_count": null,
   "id": "3ae776e2-2313-4128-83b2-0356f792cdfa",
   "metadata": {},
   "outputs": [],
   "source": [
    "# Create a Pandas DataFrame containing coordinates\n",
    "coordinates_df = pd.DataFrame(coordinates)\n",
    "\n",
    "# Display sample data\n",
    "coordinates_df"
   ]
  },
  {
   "cell_type": "code",
   "execution_count": null,
   "id": "d0eeea2d-d4b8-4b1e-a0d1-f889a5e1cdca",
   "metadata": {},
   "outputs": [],
   "source": [
    "Simple Map\n",
    "# Configure the map plot_1\n",
    "map_plot_1 = coordinates_df.hvplot.points(\n",
    "    \"longitude\",\n",
    "    \"latitude\",\n",
    "    geo = True,\n",
    "    tiles = \"OSM\"\n",
    ")\n",
    "\n",
    "# Display the map plot_1\n",
    "map_plot_1"
   ]
  },
  {
   "cell_type": "code",
   "execution_count": null,
   "id": "1d3c86c7-37e6-464f-a24b-8a3c89f6bd3b",
   "metadata": {},
   "outputs": [],
   "source": [
    "# Configure the map plot_2\n",
    "map_plot_2 = coordinates_df.hvplot.points(\n",
    "    \"longitude\",\n",
    "    \"latitude\",\n",
    "    geo = True,\n",
    "    tiles = \"OSM\",\n",
    "    frame_width = 700,\n",
    "    frame_height = 500    \n",
    ")\n",
    "\n",
    "# Display the map plot\n",
    "map_plot_2"
   ]
  },
  {
   "cell_type": "code",
   "execution_count": null,
   "id": "c8296d75-5560-40f2-978f-ca3310d903c4",
   "metadata": {},
   "outputs": [],
   "source": [
    "Map with Fixed Size\n",
    "\n"
   ]
  },
  {
   "cell_type": "code",
   "execution_count": null,
   "id": "147d6485-a68b-480c-9fe2-58c3459ccd26",
   "metadata": {},
   "outputs": [],
   "source": []
  },
  {
   "cell_type": "code",
   "execution_count": null,
   "id": "c217a472-6314-4249-b4db-1de924cab4ca",
   "metadata": {},
   "outputs": [],
   "source": []
  },
  {
   "cell_type": "code",
   "execution_count": null,
   "id": "05a47645-d187-4803-a43a-c88aed3ad6bf",
   "metadata": {},
   "outputs": [],
   "source": []
  }
 ],
 "metadata": {
  "kernelspec": {
   "display_name": "Python 3 (ipykernel)",
   "language": "python",
   "name": "python3"
  },
  "language_info": {
   "codemirror_mode": {
    "name": "ipython",
    "version": 3
   },
   "file_extension": ".py",
   "mimetype": "text/x-python",
   "name": "python",
   "nbconvert_exporter": "python",
   "pygments_lexer": "ipython3",
   "version": "3.10.14"
  }
 },
 "nbformat": 4,
 "nbformat_minor": 5
}
