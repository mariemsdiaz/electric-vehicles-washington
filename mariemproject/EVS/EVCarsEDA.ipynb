{
 "cells": [
  {
   "cell_type": "code",
   "execution_count": 1,
   "id": "a3011e06-42a4-4c01-8295-325b896b2348",
   "metadata": {},
   "outputs": [
    {
     "data": {
      "text/html": [
       "<div>\n",
       "<style scoped>\n",
       "    .dataframe tbody tr th:only-of-type {\n",
       "        vertical-align: middle;\n",
       "    }\n",
       "\n",
       "    .dataframe tbody tr th {\n",
       "        vertical-align: top;\n",
       "    }\n",
       "\n",
       "    .dataframe thead th {\n",
       "        text-align: right;\n",
       "    }\n",
       "</style>\n",
       "<table border=\"1\" class=\"dataframe\">\n",
       "  <thead>\n",
       "    <tr style=\"text-align: right;\">\n",
       "      <th></th>\n",
       "      <th>VIN (1-10)</th>\n",
       "      <th>County</th>\n",
       "      <th>City</th>\n",
       "      <th>State</th>\n",
       "      <th>Postal Code</th>\n",
       "      <th>Model Year</th>\n",
       "      <th>Make</th>\n",
       "      <th>Model</th>\n",
       "      <th>Electric Vehicle Type</th>\n",
       "      <th>Clean Alternative Fuel Vehicle (CAFV) Eligibility</th>\n",
       "      <th>Electric Range</th>\n",
       "      <th>Base MSRP</th>\n",
       "      <th>Legislative District</th>\n",
       "      <th>DOL Vehicle ID</th>\n",
       "      <th>Vehicle Location</th>\n",
       "      <th>Electric Utility</th>\n",
       "      <th>2020 Census Tract</th>\n",
       "    </tr>\n",
       "  </thead>\n",
       "  <tbody>\n",
       "    <tr>\n",
       "      <th>0</th>\n",
       "      <td>5YJSA1E22K</td>\n",
       "      <td>King</td>\n",
       "      <td>Seattle</td>\n",
       "      <td>WA</td>\n",
       "      <td>98112.0</td>\n",
       "      <td>2019</td>\n",
       "      <td>TESLA</td>\n",
       "      <td>MODEL S</td>\n",
       "      <td>Battery Electric Vehicle (BEV)</td>\n",
       "      <td>Clean Alternative Fuel Vehicle Eligible</td>\n",
       "      <td>270</td>\n",
       "      <td>0</td>\n",
       "      <td>43.0</td>\n",
       "      <td>202233958</td>\n",
       "      <td>POINT (-122.300312 47.629782)</td>\n",
       "      <td>CITY OF SEATTLE - (WA)|CITY OF TACOMA - (WA)</td>\n",
       "      <td>5.303301e+10</td>\n",
       "    </tr>\n",
       "    <tr>\n",
       "      <th>1</th>\n",
       "      <td>3MW39FS05R</td>\n",
       "      <td>Yakima</td>\n",
       "      <td>Zillah</td>\n",
       "      <td>WA</td>\n",
       "      <td>98953.0</td>\n",
       "      <td>2024</td>\n",
       "      <td>BMW</td>\n",
       "      <td>330E</td>\n",
       "      <td>Plug-in Hybrid Electric Vehicle (PHEV)</td>\n",
       "      <td>Not eligible due to low battery range</td>\n",
       "      <td>20</td>\n",
       "      <td>0</td>\n",
       "      <td>15.0</td>\n",
       "      <td>264425178</td>\n",
       "      <td>POINT (-120.2658133 46.4063477)</td>\n",
       "      <td>PACIFICORP</td>\n",
       "      <td>5.307700e+10</td>\n",
       "    </tr>\n",
       "    <tr>\n",
       "      <th>2</th>\n",
       "      <td>1N4AZ0CP0F</td>\n",
       "      <td>King</td>\n",
       "      <td>Kent</td>\n",
       "      <td>WA</td>\n",
       "      <td>98031.0</td>\n",
       "      <td>2015</td>\n",
       "      <td>NISSAN</td>\n",
       "      <td>LEAF</td>\n",
       "      <td>Battery Electric Vehicle (BEV)</td>\n",
       "      <td>Clean Alternative Fuel Vehicle Eligible</td>\n",
       "      <td>84</td>\n",
       "      <td>0</td>\n",
       "      <td>11.0</td>\n",
       "      <td>114962025</td>\n",
       "      <td>POINT (-122.201564 47.402358)</td>\n",
       "      <td>PUGET SOUND ENERGY INC||CITY OF TACOMA - (WA)</td>\n",
       "      <td>5.303303e+10</td>\n",
       "    </tr>\n",
       "    <tr>\n",
       "      <th>3</th>\n",
       "      <td>5YJSA1H20F</td>\n",
       "      <td>Snohomish</td>\n",
       "      <td>Bothell</td>\n",
       "      <td>WA</td>\n",
       "      <td>98012.0</td>\n",
       "      <td>2015</td>\n",
       "      <td>TESLA</td>\n",
       "      <td>MODEL S</td>\n",
       "      <td>Battery Electric Vehicle (BEV)</td>\n",
       "      <td>Clean Alternative Fuel Vehicle Eligible</td>\n",
       "      <td>208</td>\n",
       "      <td>0</td>\n",
       "      <td>1.0</td>\n",
       "      <td>232724670</td>\n",
       "      <td>POINT (-122.206146 47.839957)</td>\n",
       "      <td>PUGET SOUND ENERGY INC</td>\n",
       "      <td>5.306105e+10</td>\n",
       "    </tr>\n",
       "    <tr>\n",
       "      <th>4</th>\n",
       "      <td>JTMAB3FV1N</td>\n",
       "      <td>Yakima</td>\n",
       "      <td>Yakima</td>\n",
       "      <td>WA</td>\n",
       "      <td>98908.0</td>\n",
       "      <td>2022</td>\n",
       "      <td>TOYOTA</td>\n",
       "      <td>RAV4 PRIME</td>\n",
       "      <td>Plug-in Hybrid Electric Vehicle (PHEV)</td>\n",
       "      <td>Clean Alternative Fuel Vehicle Eligible</td>\n",
       "      <td>42</td>\n",
       "      <td>0</td>\n",
       "      <td>14.0</td>\n",
       "      <td>221023589</td>\n",
       "      <td>POINT (-120.611068 46.596645)</td>\n",
       "      <td>PACIFICORP</td>\n",
       "      <td>5.307700e+10</td>\n",
       "    </tr>\n",
       "  </tbody>\n",
       "</table>\n",
       "</div>"
      ],
      "text/plain": [
       "   VIN (1-10)     County     City State  Postal Code  Model Year    Make  \\\n",
       "0  5YJSA1E22K       King  Seattle    WA      98112.0        2019   TESLA   \n",
       "1  3MW39FS05R     Yakima   Zillah    WA      98953.0        2024     BMW   \n",
       "2  1N4AZ0CP0F       King     Kent    WA      98031.0        2015  NISSAN   \n",
       "3  5YJSA1H20F  Snohomish  Bothell    WA      98012.0        2015   TESLA   \n",
       "4  JTMAB3FV1N     Yakima   Yakima    WA      98908.0        2022  TOYOTA   \n",
       "\n",
       "        Model                   Electric Vehicle Type  \\\n",
       "0     MODEL S          Battery Electric Vehicle (BEV)   \n",
       "1        330E  Plug-in Hybrid Electric Vehicle (PHEV)   \n",
       "2        LEAF          Battery Electric Vehicle (BEV)   \n",
       "3     MODEL S          Battery Electric Vehicle (BEV)   \n",
       "4  RAV4 PRIME  Plug-in Hybrid Electric Vehicle (PHEV)   \n",
       "\n",
       "  Clean Alternative Fuel Vehicle (CAFV) Eligibility  Electric Range  \\\n",
       "0           Clean Alternative Fuel Vehicle Eligible             270   \n",
       "1             Not eligible due to low battery range              20   \n",
       "2           Clean Alternative Fuel Vehicle Eligible              84   \n",
       "3           Clean Alternative Fuel Vehicle Eligible             208   \n",
       "4           Clean Alternative Fuel Vehicle Eligible              42   \n",
       "\n",
       "   Base MSRP  Legislative District  DOL Vehicle ID  \\\n",
       "0          0                  43.0       202233958   \n",
       "1          0                  15.0       264425178   \n",
       "2          0                  11.0       114962025   \n",
       "3          0                   1.0       232724670   \n",
       "4          0                  14.0       221023589   \n",
       "\n",
       "                  Vehicle Location  \\\n",
       "0    POINT (-122.300312 47.629782)   \n",
       "1  POINT (-120.2658133 46.4063477)   \n",
       "2    POINT (-122.201564 47.402358)   \n",
       "3    POINT (-122.206146 47.839957)   \n",
       "4    POINT (-120.611068 46.596645)   \n",
       "\n",
       "                                Electric Utility  2020 Census Tract  \n",
       "0   CITY OF SEATTLE - (WA)|CITY OF TACOMA - (WA)       5.303301e+10  \n",
       "1                                     PACIFICORP       5.307700e+10  \n",
       "2  PUGET SOUND ENERGY INC||CITY OF TACOMA - (WA)       5.303303e+10  \n",
       "3                         PUGET SOUND ENERGY INC       5.306105e+10  \n",
       "4                                     PACIFICORP       5.307700e+10  "
      ]
     },
     "execution_count": 1,
     "metadata": {},
     "output_type": "execute_result"
    }
   ],
   "source": [
    "import pandas as pd\n",
    "from pathlib import Path\n",
    "import matplotlib.pyplot as plt\n",
    "import statsmodels.api as sm\n",
    "from sklearn.linear_model import LinearRegression\n",
    "from scipy.stats import pearsonr\n",
    "import seaborn as sns\n",
    "\n",
    "\n",
    "electric_cars_to_load = Path(\"Resources/Electric_Vehicle_Population_Data.csv\")\n",
    "#population_to_load= Path(\"Resources/Electric_Vehicle_Population_Size_History_By_County.csv\")\n",
    "\n",
    "electric_car_data = pd.read_csv(electric_cars_to_load)\n",
    "#population_data=pd.read_csv(population_to_load)\n",
    "\n",
    "electric_car_data.head()\n",
    "#population_data.head()\n"
   ]
  },
  {
   "cell_type": "code",
   "execution_count": 6,
   "id": "18bbad17-0bd8-4b47-8726-7c7bbaad5035",
   "metadata": {},
   "outputs": [
    {
     "name": "stdout",
     "output_type": "stream",
     "text": [
      "Model Year  Clean Alternative Fuel Vehicle (CAFV) Eligibility           \n",
      "1997        Clean Alternative Fuel Vehicle Eligible                             1\n",
      "1998        Clean Alternative Fuel Vehicle Eligible                             1\n",
      "1999        Clean Alternative Fuel Vehicle Eligible                             5\n",
      "2000        Clean Alternative Fuel Vehicle Eligible                             7\n",
      "2002        Clean Alternative Fuel Vehicle Eligible                             2\n",
      "2003        Clean Alternative Fuel Vehicle Eligible                             1\n",
      "2008        Clean Alternative Fuel Vehicle Eligible                            21\n",
      "2010        Clean Alternative Fuel Vehicle Eligible                            24\n",
      "2011        Clean Alternative Fuel Vehicle Eligible                           736\n",
      "2012        Clean Alternative Fuel Vehicle Eligible                          1217\n",
      "            Not eligible due to low battery range                             378\n",
      "2013        Clean Alternative Fuel Vehicle Eligible                          3551\n",
      "            Not eligible due to low battery range                             805\n",
      "            Eligibility unknown as battery range has not been researched        7\n",
      "2014        Clean Alternative Fuel Vehicle Eligible                          2759\n",
      "            Not eligible due to low battery range                             774\n",
      "2015        Clean Alternative Fuel Vehicle Eligible                          4151\n",
      "            Not eligible due to low battery range                             667\n",
      "2016        Clean Alternative Fuel Vehicle Eligible                          4176\n",
      "            Not eligible due to low battery range                            1352\n",
      "2017        Clean Alternative Fuel Vehicle Eligible                          6379\n",
      "            Not eligible due to low battery range                            2271\n",
      "2018        Clean Alternative Fuel Vehicle Eligible                         12013\n",
      "            Not eligible due to low battery range                            2327\n",
      "2019        Clean Alternative Fuel Vehicle Eligible                          9349\n",
      "            Not eligible due to low battery range                            1581\n",
      "            Eligibility unknown as battery range has not been researched        3\n",
      "2020        Clean Alternative Fuel Vehicle Eligible                         10669\n",
      "            Not eligible due to low battery range                            1398\n",
      "            Eligibility unknown as battery range has not been researched       82\n",
      "2021        Eligibility unknown as battery range has not been researched    15082\n",
      "            Clean Alternative Fuel Vehicle Eligible                          2292\n",
      "            Not eligible due to low battery range                            2157\n",
      "2022        Eligibility unknown as battery range has not been researched    23715\n",
      "            Clean Alternative Fuel Vehicle Eligible                          2420\n",
      "            Not eligible due to low battery range                            1981\n",
      "2023        Eligibility unknown as battery range has not been researched    52210\n",
      "            Clean Alternative Fuel Vehicle Eligible                          5304\n",
      "            Not eligible due to low battery range                            2570\n",
      "2024        Eligibility unknown as battery range has not been researched    11029\n",
      "            Clean Alternative Fuel Vehicle Eligible                          3706\n",
      "            Not eligible due to low battery range                            2228\n",
      "2025        Eligibility unknown as battery range has not been researched        5\n",
      "            Clean Alternative Fuel Vehicle Eligible                             1\n",
      "Name: count, dtype: int64\n"
     ]
    }
   ],
   "source": [
    "group_models=electric_car_data.groupby('Model Year')['Clean Alternative Fuel Vehicle (CAFV) Eligibility'].value_counts()\n",
    "print(group_models)"
   ]
  },
  {
   "cell_type": "code",
   "execution_count": 2,
   "id": "d0a2bfb9-94b5-40ad-ae5f-45e396a55072",
   "metadata": {},
   "outputs": [
    {
     "data": {
      "text/plain": [
       "191407"
      ]
     },
     "execution_count": 2,
     "metadata": {},
     "output_type": "execute_result"
    }
   ],
   "source": [
    "total_cars = len(electric_car_data)\n",
    "total_cars"
   ]
  },
  {
   "cell_type": "code",
   "execution_count": 3,
   "id": "427981c5-2f42-44a0-84c1-c2cd9b7cc817",
   "metadata": {},
   "outputs": [
    {
     "data": {
      "text/plain": [
       "City\n",
       "Seattle       31436\n",
       "Bellevue       9582\n",
       "Redmond        6883\n",
       "Vancouver      6744\n",
       "Bothell        6278\n",
       "Kirkland       5709\n",
       "Sammamish      5595\n",
       "Renton         5584\n",
       "Olympia        4600\n",
       "Tacoma         4011\n",
       "Tukwila        3182\n",
       "Bellingham     3171\n",
       "Kent           3050\n",
       "Issaquah       2958\n",
       "Spokane        2950\n",
       "Name: count, dtype: int64"
      ]
     },
     "execution_count": 3,
     "metadata": {},
     "output_type": "execute_result"
    }
   ],
   "source": [
    "ev_city = electric_car_data[\"City\"].value_counts()\n",
    "ev_city.head(15)"
   ]
  },
  {
   "cell_type": "code",
   "execution_count": 4,
   "id": "da0a37ae-bcdd-4a6e-a0ef-f8ca0e73e6e0",
   "metadata": {},
   "outputs": [
    {
     "data": {
      "text/plain": [
       "42"
      ]
     },
     "execution_count": 4,
     "metadata": {},
     "output_type": "execute_result"
    }
   ],
   "source": [
    "unique_cars=electric_car_data[\"Make\"].nunique()\n",
    "unique_cars"
   ]
  },
  {
   "cell_type": "code",
   "execution_count": 5,
   "id": "d63f3b15-60eb-4cf0-abfc-a6ca3a8fc0e5",
   "metadata": {},
   "outputs": [
    {
     "data": {
      "text/plain": [
       "Make\n",
       "TESLA            84670\n",
       "CHEVROLET        14321\n",
       "NISSAN           14239\n",
       "FORD             10048\n",
       "KIA               8671\n",
       "BMW               7993\n",
       "TOYOTA            7181\n",
       "VOLKSWAGEN        5408\n",
       "JEEP              4996\n",
       "HYUNDAI           4977\n",
       "RIVIAN            4751\n",
       "VOLVO             4469\n",
       "AUDI              3890\n",
       "CHRYSLER          3393\n",
       "MERCEDES-BENZ     1784\n",
       "Name: count, dtype: int64"
      ]
     },
     "execution_count": 5,
     "metadata": {},
     "output_type": "execute_result"
    }
   ],
   "source": [
    "per_make_counts = electric_car_data[\"Make\"].value_counts()\n",
    " \n",
    "per_make_counts.head(15)"
   ]
  },
  {
   "cell_type": "code",
   "execution_count": 6,
   "id": "efc697f2-1d85-4366-87fe-23da1ddc28f2",
   "metadata": {},
   "outputs": [
    {
     "data": {
      "text/plain": [
       "Model Year\n",
       "2023    60084\n",
       "2022    28116\n",
       "2021    19531\n",
       "2024    16963\n",
       "2018    14340\n",
       "2020    12149\n",
       "2019    10933\n",
       "2017     8650\n",
       "2016     5528\n",
       "2015     4818\n",
       "Name: count, dtype: int64"
      ]
     },
     "execution_count": 6,
     "metadata": {},
     "output_type": "execute_result"
    }
   ],
   "source": [
    "model_year=electric_car_data[\"Model Year\"].value_counts()\n",
    "model_year.head(10)"
   ]
  },
  {
   "cell_type": "code",
   "execution_count": 11,
   "id": "aeb6db84-d118-4907-a98f-fd8389feb211",
   "metadata": {},
   "outputs": [
    {
     "name": "stdout",
     "output_type": "stream",
     "text": [
      "Number of cars eligible for the tax credit: 68785\n",
      "Number of cars not eligible for the tax credit: 122622\n"
     ]
    }
   ],
   "source": [
    "#What is the amount of cars that are eligible from a Tax Credit vs Not Eligible\n",
    "\n",
    "eligible_ev_cars = electric_car_data[electric_car_data[\"Clean Alternative Fuel Vehicle (CAFV) Eligibility\"] == \"Clean Alternative Fuel Vehicle Eligible\"]\n",
    "\n",
    "# Count the number of eligible cars\n",
    "num_eligible_cars = len(eligible_ev_cars)\n",
    "\n",
    "# Count the total number of cars\n",
    "total_cars = len(electric_car_data)\n",
    "\n",
    "# Calculate the number of cars that are not eligible\n",
    "num_not_eligible_cars = total_cars - num_eligible_cars\n",
    "\n",
    "# Print the summary\n",
    "print(f\"Number of cars eligible for the tax credit: {num_eligible_cars}\")\n",
    "print(f\"Number of cars not eligible for the tax credit: {num_not_eligible_cars}\")"
   ]
  },
  {
   "cell_type": "code",
   "execution_count": 12,
   "id": "efd7078c-1449-4900-9fa9-c2a6f54df9a6",
   "metadata": {},
   "outputs": [
    {
     "name": "stdout",
     "output_type": "stream",
     "text": [
      "35\n",
      "64\n"
     ]
    }
   ],
   "source": [
    "percentage_eligible = int((num_eligible_cars / total_cars) * 100)\n",
    "percentage_not_eligible =int((num_not_eligible_cars / total_cars) * 100)\n",
    "print(percentage_eligible)\n",
    "print(percentage_not_eligible)"
   ]
  },
  {
   "cell_type": "code",
   "execution_count": 9,
   "id": "647b5c65-7cfb-40fe-9da4-0e79f2647d17",
   "metadata": {},
   "outputs": [
    {
     "data": {
      "image/png": "[encoded data removed]",
      "text/plain": [
       "<Figure size 800x600 with 1 Axes>"
      ]
     },
     "metadata": {},
     "output_type": "display_data"
    }
   ],
   "source": [
    "categories = ['Eligible', 'Not Eligible'] \n",
    "values = [68785, 122622] \n",
    "plt.figure(figsize=(8, 6))\n",
    "plt.bar(categories, values, color=['green', 'blue'])\n",
    "\n",
    "plt.savefig(\"output_data/Fig1.png\")\n",
    "plt.grid(True)\n",
    "plt.xlabel('Eligibity Status') \n",
    "plt.ylabel('Number of Registered EVs') \n",
    "plt.title('Tax Credit Eligibility of Cars') \n",
    "plt.show()"
   ]
  },
  {
   "cell_type": "code",
   "execution_count": 10,
   "id": "09345056-2904-4ad2-9461-300492d94b7e",
   "metadata": {},
   "outputs": [
    {
     "ename": "SyntaxError",
     "evalue": "invalid syntax (2500321735.py, line 1)",
     "output_type": "error",
     "traceback": [
      "\u001b[0;36m  Cell \u001b[0;32mIn[10], line 1\u001b[0;36m\u001b[0m\n\u001b[0;31m    Eligibility for CAFVs can vary depending on the context, such as government incentives, tax credits, regulatory definitions, or programs aimed at\u001b[0m\n\u001b[0m                ^\u001b[0m\n\u001b[0;31mSyntaxError\u001b[0m\u001b[0;31m:\u001b[0m invalid syntax\n"
     ]
    }
   ],
   "source": [
    "Eligibility for CAFVs can vary depending on the context, such as government incentives, tax credits, regulatory definitions, or programs aimed at \n",
    "promoting environmentally friendly transportation.\n"
   ]
  },
  {
   "cell_type": "code",
   "execution_count": 11,
   "id": "3178a2a5-20c8-419d-8b61-7137e5b248a4",
   "metadata": {},
   "outputs": [
    {
     "data": {
      "text/plain": [
       "49"
      ]
     },
     "execution_count": 11,
     "metadata": {},
     "output_type": "execute_result"
    }
   ],
   "source": [
    "#Find the Total Legislative Districts \n",
    "legislative_districts = electric_car_data[\"Legislative District\"].nunique()\n",
    "legislative_districts\n"
   ]
  },
  {
   "cell_type": "code",
   "execution_count": 8,
   "id": "53364537-33e4-433a-8301-2a84d1f3f8bd",
   "metadata": {},
   "outputs": [
    {
     "name": "stdout",
     "output_type": "stream",
     "text": [
      "Model Year\n",
      "2014     3533\n",
      "2015     4818\n",
      "2016     5528\n",
      "2017     8650\n",
      "2018    14340\n",
      "2019    10933\n",
      "2020    12149\n",
      "2021    19531\n",
      "2022    28116\n",
      "2023    60084\n",
      "2024    16963\n",
      "Name: count, dtype: int64\n"
     ]
    },
    {
     "data": {
      "image/png": "[encoded data removed]",
      "text/plain": [
       "<Figure size 700x500 with 1 Axes>"
      ]
     },
     "metadata": {},
     "output_type": "display_data"
    }
   ],
   "source": [
    "\n",
    "# Determine the current year\n",
    "current_year = pd.to_datetime('now').year\n",
    "\n",
    "# Extract data for the last 10 years\n",
    "last_10_years = range(current_year - 10, current_year + 1)\n",
    "recent_ev_data = electric_car_data[electric_car_data['Model Year'].isin(last_10_years)]\n",
    "\n",
    "# Count the number of cars registered each year\n",
    "model_year_counts = recent_ev_data['Model Year'].value_counts().sort_index()\n",
    "\n",
    "# Display the counts\n",
    "print(model_year_counts)\n",
    "\n",
    "# Plot the growth of EV registrations over the last 10 years\n",
    "model_year_counts.plot(kind='bar', stacked=True, figsize=(7, 5),colormap='viridis')\n",
    "plt.title('Growth of EV Registrations Over the Last 10 Years by Model Year')\n",
    "plt.xlabel('Model Year')\n",
    "plt.ylabel('Number of Registered EVs (Washington State)')\n",
    "plt.grid(True)\n",
    "plt.tight_layout()\n",
    "plt.savefig(\"output_data/Fig2.png\")\n",
    "# Save the plot as an image file\n",
    "#plt.savefig('ev_growth_last_10_years.png')\n",
    "\n",
    "# Show the plot\n",
    "plt.show()\n"
   ]
  },
  {
   "cell_type": "code",
   "execution_count": 13,
   "id": "64740aa2-ada6-4366-99a9-d5366bf40275",
   "metadata": {},
   "outputs": [
    {
     "name": "stdout",
     "output_type": "stream",
     "text": [
      "                            OLS Regression Results                            \n",
      "==============================================================================\n",
      "Dep. Variable:        Registered Cars   R-squared:                         nan\n",
      "Model:                            OLS   Adj. R-squared:                    nan\n",
      "Method:                 Least Squares   F-statistic:                       nan\n",
      "Date:                Fri, 12 Jul 2024   Prob (F-statistic):                nan\n",
      "Time:                        11:17:15   Log-Likelihood:                    inf\n",
      "No. Observations:                  11   AIC:                              -inf\n",
      "Df Residuals:                      10   BIC:                              -inf\n",
      "Df Model:                           0                                         \n",
      "Covariance Type:            nonrobust                                         \n",
      "=====================================================================================================================\n",
      "                                                        coef    std err          t      P>|t|      [0.025      0.975]\n",
      "---------------------------------------------------------------------------------------------------------------------\n",
      "Clean Alternative Fuel Vehicle (CAFV) Eligibility     2.7827          0        inf      0.000       2.783       2.783\n",
      "==============================================================================\n",
      "Omnibus:                          nan   Durbin-Watson:                     nan\n",
      "Prob(Omnibus):                    nan   Jarque-Bera (JB):                  nan\n",
      "Skew:                             nan   Prob(JB):                          nan\n",
      "Kurtosis:                         nan   Cond. No.                         1.00\n",
      "==============================================================================\n",
      "\n",
      "Notes:\n",
      "[1] Standard Errors assume that the covariance matrix of the errors is correctly specified.\n"
     ]
    },
    {
     "name": "stderr",
     "output_type": "stream",
     "text": [
      "/Applications/anaconda3/envs/dev/lib/python3.10/site-packages/scipy/stats/_axis_nan_policy.py:531: UserWarning: kurtosistest only valid for n>=20 ... continuing anyway, n=11\n",
      "  res = hypotest_fun_out(*samples, **kwds)\n",
      "/Applications/anaconda3/envs/dev/lib/python3.10/site-packages/statsmodels/regression/linear_model.py:1781: RuntimeWarning: invalid value encountered in scalar divide\n",
      "  return 1 - self.ssr/self.centered_tss\n",
      "/Applications/anaconda3/envs/dev/lib/python3.10/site-packages/statsmodels/regression/linear_model.py:956: RuntimeWarning: divide by zero encountered in log\n",
      "  llf = -nobs2*np.log(2*np.pi) - nobs2*np.log(ssr / nobs) - nobs2\n",
      "/Applications/anaconda3/envs/dev/lib/python3.10/site-packages/statsmodels/stats/stattools.py:50: RuntimeWarning: invalid value encountered in scalar divide\n",
      "  dw = np.sum(diff_resids**2, axis=axis) / np.sum(resids**2, axis=axis)\n"
     ]
    }
   ],
   "source": [
    "\n",
    "data = {\n",
    "    'Year': last_10_years,\n",
    "    'Clean Alternative Fuel Vehicle (CAFV) Eligibility': num_eligible_cars,\n",
    "    'Registered Cars': total_cars\n",
    "}\n",
    "df = pd.DataFrame(data)\n",
    "\n",
    "# Add a constant to the independent variable (tax credits)\n",
    "X = sm.add_constant(df['Clean Alternative Fuel Vehicle (CAFV) Eligibility'])\n",
    "\n",
    "# Dependent variable (registered cars)\n",
    "y = df['Registered Cars']\n",
    "\n",
    "# Fit the linear regression model\n",
    "model = sm.OLS(y, X).fit()\n",
    "\n",
    "# Print the model summary\n",
    "print(model.summary())\n"
   ]
  },
  {
   "cell_type": "code",
   "execution_count": 14,
   "id": "4a3d09f4-9fc4-42cd-8444-e29f8089d94f",
   "metadata": {},
   "outputs": [
    {
     "data": {
      "text/plain": [
       "Model Year\n",
       "1997        1\n",
       "1998        1\n",
       "1999        5\n",
       "2000        7\n",
       "2002        2\n",
       "2003        1\n",
       "2008       21\n",
       "2010       24\n",
       "2011      736\n",
       "2012     1595\n",
       "2013     4363\n",
       "2014     3533\n",
       "2015     4818\n",
       "2016     5528\n",
       "2017     8650\n",
       "2018    14340\n",
       "2019    10933\n",
       "2020    12149\n",
       "2021    19531\n",
       "2022    28116\n",
       "2023    60084\n",
       "2024    16963\n",
       "2025        6\n",
       "dtype: int64"
      ]
     },
     "execution_count": 14,
     "metadata": {},
     "output_type": "execute_result"
    }
   ],
   "source": [
    "model_size=electric_car_data.groupby('Model Year').size()\n",
    "model_size"
   ]
  },
  {
   "cell_type": "code",
   "execution_count": 18,
   "id": "2986a934-d105-40ec-af7b-5dee69846d5c",
   "metadata": {},
   "outputs": [
    {
     "data": {
      "text/plain": [
       "Model Year\n",
       "1997        1\n",
       "1998        1\n",
       "1999        5\n",
       "2000        7\n",
       "2002        2\n",
       "2003        1\n",
       "2008       21\n",
       "2010       24\n",
       "2011      736\n",
       "2012     1217\n",
       "2013     3551\n",
       "2014     2759\n",
       "2015     4151\n",
       "2016     4176\n",
       "2017     6379\n",
       "2018    12013\n",
       "2019     9349\n",
       "2020    10669\n",
       "2021     2292\n",
       "2022     2420\n",
       "2023     5304\n",
       "2024     3706\n",
       "2025        1\n",
       "dtype: int64"
      ]
     },
     "execution_count": 18,
     "metadata": {},
     "output_type": "execute_result"
    }
   ],
   "source": [
    "eligibility_df=electric_car_data[electric_car_data['Clean Alternative Fuel Vehicle (CAFV) Eligibility']==\\\n",
    "                                                    'Clean Alternative Fuel Vehicle Eligible']\n",
    "\n",
    "\n",
    "eligible_by_year=eligibility_df.groupby('Model Year').size()\n",
    "\n",
    "eligible_by_year\n",
    "\n"
   ]
  },
  {
   "cell_type": "code",
   "execution_count": 20,
   "id": "6e8993b4-d985-4769-89e2-5e66990cdb15",
   "metadata": {},
   "outputs": [
    {
     "name": "stdout",
     "output_type": "stream",
     "text": [
      "    Model Year  Total Number of Vehicles  Eligible Vehicles\n",
      "0         1997                         1                  1\n",
      "1         1998                         1                  1\n",
      "2         1999                         5                  5\n",
      "3         2000                         7                  7\n",
      "4         2002                         2                  2\n",
      "5         2003                         1                  1\n",
      "6         2008                        21                 21\n",
      "7         2010                        24                 24\n",
      "8         2011                       736                736\n",
      "9         2012                      1595               1217\n",
      "10        2013                      4363               3551\n",
      "11        2014                      3533               2759\n",
      "12        2015                      4818               4151\n",
      "13        2016                      5528               4176\n",
      "14        2017                      8650               6379\n",
      "15        2018                     14340              12013\n",
      "16        2019                     10933               9349\n",
      "17        2020                     12149              10669\n",
      "18        2021                     19531               2292\n",
      "19        2022                     28116               2420\n",
      "20        2023                     60084               5304\n",
      "21        2024                     16963               3706\n",
      "22        2025                         6                  1\n"
     ]
    }
   ],
   "source": [
    "regression_dataframe=pd.DataFrame({\n",
    "    'Total Number of Vehicles': model_size,\n",
    "    'Eligible Vehicles': eligible_by_year}).reset_index()\n",
    "\n",
    "print(regression_dataframe)"
   ]
  },
  {
   "cell_type": "code",
   "execution_count": 31,
   "id": "cd724950-ec3b-4a6c-8975-190b06a9ef98",
   "metadata": {},
   "outputs": [
    {
     "name": "stdout",
     "output_type": "stream",
     "text": [
      "Slope (Coefficient): 0.109901083057517\n",
      "Intercept: 2076.050582400428\n"
     ]
    },
    {
     "data": {
      "image/png": "[encoded data removed]",
      "text/plain": [
       "<Figure size 1000x600 with 1 Axes>"
      ]
     },
     "metadata": {},
     "output_type": "display_data"
    }
   ],
   "source": [
    "regression_model=LinearRegression()\n",
    "regression_model.fit(regression_dataframe[['Total Number of Vehicles']],regression_dataframe['Eligible Vehicles'])\n",
    "slope=regression_model.coef_[0]\n",
    "intercept = regression_model.intercept_\n",
    "\n",
    "\n",
    "print(f\"Slope (Coefficient): {slope}\")\n",
    "print(f\"Intercept: {intercept}\")\n",
    "\n",
    "plt.figure(figsize=(10, 6))\n",
    "plt.scatter(regression_dataframe['Total Number of Vehicles'],regression_dataframe['Eligible Vehicles'] , label='Data Points')\n",
    "\n",
    "# Plotting the regression line\n",
    "plt.plot(regression_dataframe[['Total Number of Vehicles']], regression_model.predict(regression_dataframe[['Total Number of Vehicles']]), color='red', linewidth=2, label='Regression Line')\n",
    "\n",
    "# Add labels and title\n",
    "plt.title('Relationship between Total Number of Vehicles and Eligible Vehicles')\n",
    "plt.xlabel('Total Number of Vehicles')\n",
    "plt.ylabel('Eligible Vehicles')\n",
    "plt.legend()\n",
    "plt.savefig(\"output_data/Fig4.png\")\n",
    "# Display plot\n",
    "plt.grid(True)\n",
    "plt.tight_layout()\n",
    "plt.show()\n",
    "\n"
   ]
  },
  {
   "cell_type": "code",
   "execution_count": null,
   "id": "4ff69cee-7174-4da8-95b8-175ec9537ce9",
   "metadata": {},
   "outputs": [],
   "source": [
    "Stats Summary: In summary, the output indicates that Clean Alternative Fuel Vehicle (CAFV) Eligibility has a statistically \n",
    "significant and positive effect on Registered Cars according to your regression analysis. The coefficient 2.7827 \n",
    "suggests that, on average, an increase in Clean Alternative Fuel Vehicle (CAFV) Eligibility is associated with an \n",
    "increase in Registered Cars by approximately 2.7827 units, with high confidence based on the provided statistical tests.\n"
   ]
  },
  {
   "cell_type": "code",
   "execution_count": 28,
   "id": "724ffab7-514d-4079-8807-068c4ec16b84",
   "metadata": {},
   "outputs": [
    {
     "ename": "TypeError",
     "evalue": "object of type 'int' has no len()",
     "output_type": "error",
     "traceback": [
      "\u001b[0;31m---------------------------------------------------------------------------\u001b[0m",
      "\u001b[0;31mTypeError\u001b[0m                                 Traceback (most recent call last)",
      "Cell \u001b[0;32mIn[28], line 2\u001b[0m\n\u001b[1;32m      1\u001b[0m years \u001b[38;5;241m=\u001b[39m last_10_years \n\u001b[0;32m----> 2\u001b[0m values_eligible \u001b[38;5;241m=\u001b[39m\u001b[38;5;28;43mlen\u001b[39;49m\u001b[43m(\u001b[49m\u001b[43mnum_eligible_cars\u001b[49m\u001b[43m)\u001b[49m\n\u001b[1;32m      3\u001b[0m values_not_eligible \u001b[38;5;241m=\u001b[39m\u001b[38;5;28mlen\u001b[39m(num_not_eligible_cars)\n\u001b[1;32m      5\u001b[0m \u001b[38;5;66;03m# Plotting\u001b[39;00m\n",
      "\u001b[0;31mTypeError\u001b[0m: object of type 'int' has no len()"
     ]
    }
   ],
   "source": [
    "years = last_10_years \n",
    "values_eligible =len(num_eligible_cars)\n",
    "values_not_eligible =len(num_not_eligible_cars)\n",
    "\n",
    "# Plotting\n",
    "plt.figure(figsize=(10, 6))\n",
    "plt.plot(years, values_eligible, marker='o', linestyle='-', color='b', label='Eligible')\n",
    "plt.plot(years, values_not_eligible, marker='o', linestyle='-', color='g', label='Not Eligible')\n",
    "\n",
    "# Customizations\n",
    "plt.grid(True)\n",
    "plt.xlabel('Year')\n",
    "plt.ylabel('Number of Registered EVs')\n",
    "plt.title('Comparison of Registered EVs (Eligible vs Not Eligible)')\n",
    "plt.xticks(years)  # Ensure all years are displayed on the x-axis\n",
    "\n",
    "# Show legend\n",
    "plt.legend()\n",
    "\n",
    "# Save and display plot\n",
    "plt.savefig(\"output_data/Comparison_Reg_EV.png\")\n",
    "plt.show()\n",
    "\n",
    "\n"
   ]
  },
  {
   "cell_type": "code",
   "execution_count": 29,
   "id": "c9fad82b-7709-4e7c-bd6a-ff254de8d3b0",
   "metadata": {},
   "outputs": [
    {
     "name": "stdout",
     "output_type": "stream",
     "text": [
      "The most popular Nissan model is LEAF with 13439 registrations.\n"
     ]
    }
   ],
   "source": [
    "\n",
    "\n",
    "# Filter the data for Nissan vehicles\n",
    "nissan_data = electric_car_data[electric_car_data[\"Make\"] == \"NISSAN\"]\n",
    "\n",
    "# Count the occurrences of each Nissan model\n",
    "nissan_model_counts = nissan_data[\"Model\"].value_counts()\n",
    "\n",
    "# Check if nissan_model_counts is not empty before finding the most popular model\n",
    "if not nissan_model_counts.empty:\n",
    "    most_popular_nissan_model = nissan_model_counts.idxmax()\n",
    "    most_popular_nissan_count = nissan_model_counts.max()\n",
    "    print(f\"The most popular Nissan model is {most_popular_nissan_model} with {most_popular_nissan_count} registrations.\")\n",
    "else:\n",
    "    print(\"No Nissan models found in the dataset.\")\n",
    "\n"
   ]
  },
  {
   "cell_type": "code",
   "execution_count": null,
   "id": "7fe19ce9-4a11-4836-879c-e3440b93f310",
   "metadata": {},
   "outputs": [],
   "source": [
    "\n",
    "make_counts = electric_car_data[\"Make\"].value_counts()\n",
    "\n",
    "# Identify the top 4 car makes\n",
    "top_4_makes = make_counts.head(4)\n",
    "\n",
    "print(\"Top 4 car makes in EV registrations:\")\n",
    "print(top_4_makes)\n",
    "\n",
    "# For each of the top 4 makes, find the most popular model\n",
    "for make in top_4_makes.index:\n",
    "    make_data = electric_car_data[electric_car_data[\"Make\"] == make]\n",
    "    model_counts = make_data[\"Model\"].value_counts()\n",
    "    \n",
    "    if not model_counts.empty:\n",
    "        most_popular_model = model_counts.idxmax()\n",
    "        most_popular_count = model_counts.max()\n",
    "        print(f\"The most popular model for {make} is {most_popular_model} with {most_popular_count} registrations.\")\n",
    "    else:\n",
    "        print(f\"No models found for make {make} in the dataset.\")\n"
   ]
  },
  {
   "cell_type": "code",
   "execution_count": 30,
   "id": "8a9a666f-13eb-4ee7-aac0-aa3daa7beb4e",
   "metadata": {},
   "outputs": [
    {
     "data": {
      "image/png": "[encoded data removed]",
      "text/plain": [
       "<Figure size 800x600 with 1 Axes>"
      ]
     },
     "metadata": {},
     "output_type": "display_data"
    }
   ],
   "source": [
    "\n",
    "labels = ['TESLA', 'CHEVROLET', 'NISSAN', 'FORD']\n",
    "sizes = [84670, 14321, 14239, 10048]\n",
    "colors = ['#1f77b4', '#ff7f0e', '#2ca02c', '#d62728']  # Colors for each slice\n",
    "\n",
    "# Create a pie chart\n",
    "plt.figure(figsize=(8, 6))\n",
    "plt.pie(sizes, labels=labels, colors=colors, autopct='%1.1f%%', startangle=140)\n",
    "plt.savefig(\"output_data/Fig3.png\")\n",
    "# Add title\n",
    "plt.title('Top EV Registrations by Make', pad=30)\n",
    "\n",
    "# Display the plot\n",
    "plt.axis('equal')  # Equal aspect ratio ensures that pie is drawn as a circle.\n",
    "plt.show()\n"
   ]
  },
  {
   "cell_type": "code",
   "execution_count": null,
   "id": "49e7f70f-d12a-4397-9248-353c2f884bd7",
   "metadata": {},
   "outputs": [],
   "source": []
  }
 ],
 "metadata": {
  "kernelspec": {
   "display_name": "Python 3 (ipykernel)",
   "language": "python",
   "name": "python3"
  },
  "language_info": {
   "codemirror_mode": {
    "name": "ipython",
    "version": 3
   },
   "file_extension": ".py",
   "mimetype": "text/x-python",
   "name": "python",
   "nbconvert_exporter": "python",
   "pygments_lexer": "ipython3",
   "version": "3.10.14"
  }
 },
 "nbformat": 4,
 "nbformat_minor": 5
}
